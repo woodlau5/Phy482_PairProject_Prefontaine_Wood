{
 "cells": [
  {
   "cell_type": "code",
   "execution_count": 1,
   "metadata": {},
   "outputs": [
    {
     "data": {
      "application/javascript": [
       "require.undef(\"nbextensions/vpython_libraries/glow.min\");"
      ],
      "text/plain": [
       "<IPython.core.display.Javascript object>"
      ]
     },
     "metadata": {},
     "output_type": "display_data"
    },
    {
     "data": {
      "application/javascript": [
       "require.undef(\"nbextensions/vpython_libraries/glowcomm\");"
      ],
      "text/plain": [
       "<IPython.core.display.Javascript object>"
      ]
     },
     "metadata": {},
     "output_type": "display_data"
    },
    {
     "data": {
      "application/javascript": [
       "require.undef(\"nbextensions/vpython_libraries/jquery-ui.custom.min\");"
      ],
      "text/plain": [
       "<IPython.core.display.Javascript object>"
      ]
     },
     "metadata": {},
     "output_type": "display_data"
    },
    {
     "data": {
      "application/javascript": [
       "require([\"nbextensions/vpython_libraries/glow.min\"], function(){console.log(\"GLOW LOADED\");})"
      ],
      "text/plain": [
       "<IPython.core.display.Javascript object>"
      ]
     },
     "metadata": {},
     "output_type": "display_data"
    },
    {
     "data": {
      "application/javascript": [
       "require([\"nbextensions/vpython_libraries/glowcomm\"], function(){console.log(\"GLOWCOMM LOADED\");})"
      ],
      "text/plain": [
       "<IPython.core.display.Javascript object>"
      ]
     },
     "metadata": {},
     "output_type": "display_data"
    },
    {
     "data": {
      "application/javascript": [
       "require([\"nbextensions/vpython_libraries/jquery-ui.custom.min\"], function(){console.log(\"JQUERY LOADED\");})"
      ],
      "text/plain": [
       "<IPython.core.display.Javascript object>"
      ]
     },
     "metadata": {},
     "output_type": "display_data"
    },
    {
     "data": {
      "text/html": [
       "<div id=\"glowscript\" class=\"glowscript\"></div>"
      ],
      "text/plain": [
       "<IPython.core.display.HTML object>"
      ]
     },
     "metadata": {},
     "output_type": "display_data"
    },
    {
     "data": {
      "application/javascript": [
       "window.__context = { glowscript_container: $(\"#glowscript\").removeAttr(\"id\")}"
      ],
      "text/plain": [
       "<IPython.core.display.Javascript object>"
      ]
     },
     "metadata": {},
     "output_type": "display_data"
    }
   ],
   "source": [
    "from pylab import *\n",
    "import numpy as np\n",
    "from math import pi,radians\n",
    "from vpython import *\n",
    "\n",
    "#earth_r = 6.371*10**6 #radius of earth in meters\n",
    "earth_r = 1\n",
    "\n",
    "#BB_const=3.12*10**(-5)*(earth_r)**3 #units of kg*m^3/(A*s^2)\n",
    "BB_const = 1\n",
    "dim = 3 #what about phi component??\n",
    "\n",
    "def dipole(r,angle): #angle is not currently mlat  ??\n",
    "    BB=np.zeros(dim)\n",
    "    BB[0]=-2*BB_const*sin(angle)/(r**3) #r component\n",
    "    BB[1]=-BB_const*cos(angle)/(r**3) #theta component\n",
    "    #no phi component because there is azimuthal symmetry\n",
    "    return BB"
   ]
  },
  {
   "cell_type": "code",
   "execution_count": 2,
   "metadata": {
    "collapsed": true
   },
   "outputs": [],
   "source": [
    "particles = []\n",
    "\n",
    "def makeparticle(position,velocity):\n",
    "    newparticle=sphere(pos=position,radius=0.09,color=color.cyan)\n",
    "    newparticle.velocity=vector(velocity)\n",
    "    particles.append(newparticle)"
   ]
  },
  {
   "cell_type": "code",
   "execution_count": 4,
   "metadata": {
    "scrolled": true
   },
   "outputs": [
    {
     "data": {
      "text/html": [
       "<div id=\"glowscript\" class=\"glowscript\"></div>"
      ],
      "text/plain": [
       "<IPython.core.display.HTML object>"
      ]
     },
     "metadata": {},
     "output_type": "display_data"
    },
    {
     "data": {
      "application/javascript": [
       "window.__context = { glowscript_container: $(\"#glowscript\").removeAttr(\"id\")}"
      ],
      "text/plain": [
       "<IPython.core.display.Javascript object>"
      ]
     },
     "metadata": {},
     "output_type": "display_data"
    }
   ],
   "source": [
    "dx = 10\n",
    "#scale = 2000\n",
    "scale = 0.25\n",
    "\n",
    "for latitude in arange(-90,90+dx,dx):\n",
    "    lat_angle = abs(pi-radians(90-latitude))\n",
    "    fieldstrength = dipole(earth_r, lat_angle)\n",
    "    #field = vector(fieldstrength[0]*sin(fieldstrength[1]),0 ,fieldstrength[0]*cos(fieldstrength[1]))\n",
    "    #scale = 10\n",
    "    #scale = 1000*3\n",
    "    for phi in arange(0, 2*pi+(pi/dx), pi*dx/180):\n",
    "        field = vector(fieldstrength[0]*sin(fieldstrength[1])*cos(phi),fieldstrength[0]*sin(fieldstrength[1])*sin(phi),fieldstrength[0]*cos(fieldstrength[1]))\n",
    "        \n",
    "        #scale = 1000 #3*1000\n",
    "        arrow(pos=vector(sin(lat_angle)*cos(phi),sin(lat_angle)*sin(phi),cos(lat_angle)), \n",
    "              axis=field*scale, shaftwidth= .01, color=color.white)\n",
    "for latitude in arange(-90,90+dx,dx):\n",
    "    lat_angle = abs(pi-radians(90-latitude))\n",
    "    fieldstrength = dipole(1.1*earth_r, lat_angle)\n",
    "    #field = vector(fieldstrength[0]*sin(fieldstrength[1]),0 ,fieldstrength[0]*cos(fieldstrength[1]))\n",
    "    #scale = 10\n",
    "    #scale = 1000*3\n",
    "    for phi in arange(0, 2*pi+(pi/dx), pi*dx/180):\n",
    "        field = vector(fieldstrength[0]*sin(fieldstrength[1])*cos(phi),fieldstrength[0]*sin(fieldstrength[1])*sin(phi),fieldstrength[0]*cos(fieldstrength[1]))\n",
    "        \n",
    "        #scale = 1000 #3*1000\n",
    "        arrow(pos=vector(1.1*sin(lat_angle)*cos(phi),1.1*sin(lat_angle)*sin(phi),1.1*cos(lat_angle)), \n",
    "              axis=field*scale, shaftwidth= .01, color=color.cyan)\n",
    "for latitude in arange(-90,90+dx,dx):\n",
    "    lat_angle = abs(pi-radians(90-latitude))\n",
    "    fieldstrength = dipole(1.2*earth_r, lat_angle)\n",
    "    #field = vector(fieldstrength[0]*sin(fieldstrength[1]),0 ,fieldstrength[0]*cos(fieldstrength[1]))\n",
    "    #scale = 10\n",
    "    #scale = 1000*3\n",
    "    for phi in arange(0, 2*pi+(pi/dx), pi*dx/180):\n",
    "        field = vector(fieldstrength[0]*sin(fieldstrength[1])*cos(phi),fieldstrength[0]*sin(fieldstrength[1])*sin(phi),fieldstrength[0]*cos(fieldstrength[1]))\n",
    "        \n",
    "        #scale = 1000 #3*1000\n",
    "        arrow(pos=vector(1.2*sin(lat_angle)*cos(phi),1.2*sin(lat_angle)*sin(phi),1.2*cos(lat_angle)), \n",
    "              axis=field*scale, shaftwidth= .01, color=color.blue)\n",
    "for latitude in arange(-90,90+dx,dx):\n",
    "    lat_angle = abs(pi-radians(90-latitude))\n",
    "    fieldstrength = dipole(1.2*earth_r, lat_angle)\n",
    "    #field = vector(fieldstrength[0]*sin(fieldstrength[1]),0 ,fieldstrength[0]*cos(fieldstrength[1]))\n",
    "    #scale = 10\n",
    "    #scale = 1000*3\n",
    "    for phi in arange(0, 2*pi+(pi/dx), pi*dx/180):\n",
    "        field = vector(fieldstrength[0]*sin(fieldstrength[1])*cos(phi),fieldstrength[0]*sin(fieldstrength[1])*sin(phi),fieldstrength[0]*cos(fieldstrength[1]))\n",
    "        \n",
    "        #scale = 1000 #3*1000\n",
    "        arrow(pos=vector(1.2*sin(lat_angle)*cos(phi),1.2*sin(lat_angle)*sin(phi),1.2*cos(lat_angle)), \n",
    "              axis=field*scale, shaftwidth= .01, color=color.green)\n",
    "        \n",
    "position = vector(1.2*earth_r,1.2*earth_r,1.2*earth_r)\n",
    "velocity = vector(-1,-1,-1)\n",
    "q = 1.0\n",
    "t = 0\n",
    "tf = 1000\n",
    "dt = 0.01\n",
    "\n",
    "while t < tf:\n",
    "    #still trying to figure out how to add a trail to a particle\n",
    "    #right now this makes a new particle over and over again\n",
    "    makeparticle(position, velocity)\n",
    "    for thisparticle in particles:\n",
    "        acc=vector(0,0,0)\n",
    "        r = sqrt(thisparticle.pos.x**2 + thisparticle.pos.y**2 + thisparticle.pos.z**2)\n",
    "        theta = acos(thisparticle.pos.z/r)\n",
    "        B_field = dipole(r, theta)\n",
    "        B = vector (B_field[0]*sin(B_field[1]), 0, B_field[0]*cos(B_field[1]))\n",
    "        #print(r, theta, B)\n",
    "        #lorentz force\n",
    "        F =cross((q*thisparticle.velocity), B)\n",
    "        acc += F\n",
    "        #print(F, acc)\n",
    "        #updating velocity and position of particle\n",
    "        thisparticle.velocity+=acc*dt\n",
    "        thisparticle.pos+=thisparticle.velocity*dt\n",
    "        t += dt\n",
    "        \n",
    "scene = canvas(title='Dipole B Field')"
   ]
  },
  {
   "cell_type": "code",
   "execution_count": null,
   "metadata": {
    "collapsed": true
   },
   "outputs": [],
   "source": []
  }
 ],
 "metadata": {
  "kernelspec": {
   "display_name": "VPython",
   "language": "python",
   "name": "vpython"
  },
  "language_info": {
   "codemirror_mode": {
    "name": "ipython",
    "version": 3
   },
   "file_extension": ".py",
   "mimetype": "text/x-python",
   "name": "python",
   "nbconvert_exporter": "python",
   "pygments_lexer": "ipython3",
   "version": "3.6.3"
  }
 },
 "nbformat": 4,
 "nbformat_minor": 2
}
