{
 "cells": [
  {
   "cell_type": "code",
   "execution_count": 21,
   "metadata": {},
   "outputs": [],
   "source": [
    "from pylab import *\n",
    "import numpy as np\n",
    "from math import pi,radians\n",
    "from vpython import *\n",
    "\n",
    "#earth_r = 6.371*10**6 #radius of earth in meters\n",
    "earth_r = 1\n",
    "#BB_const=3.12*10**(-5)*((earth_r)**3) #units of kg*m^3/(A*s^2)\n",
    "BB_const = 1\n",
    "dim = 3 #what about phi component??\n",
    "\n",
    "def dipole(r,angle): #angle is not mlat currently\n",
    "    BB=np.zeros(dim)\n",
    "    BB[0]=-2*BB_const*sin(angle)/(r**3) #r component\n",
    "    BB[1]=-BB_const*cos(angle)/(r**3) #theta component (negative or not??)\n",
    "    #no phi component becuase there is azimuthal symmetry\n",
    "    return BB"
   ]
  },
  {
   "cell_type": "code",
   "execution_count": 30,
   "metadata": {
    "collapsed": true
   },
   "outputs": [],
   "source": [
    "particles = []\n",
    "\n",
    "def makeparticle(position,velocity):\n",
    "    newparticle=sphere(pos=position,radius=0.09,color=color.cyan)\n",
    "    newparticle.velocity=vector(velocity)\n",
    "    particles.append(newparticle)"
   ]
  },
  {
   "cell_type": "code",
   "execution_count": 31,
   "metadata": {
    "scrolled": true
   },
   "outputs": [
    {
     "data": {
      "text/html": [
       "<div id=\"glowscript\" class=\"glowscript\"></div>"
      ],
      "text/plain": [
       "<IPython.core.display.HTML object>"
      ]
     },
     "metadata": {},
     "output_type": "display_data"
    },
    {
     "data": {
      "application/javascript": [
       "window.__context = { glowscript_container: $(\"#glowscript\").removeAttr(\"id\")}"
      ],
      "text/plain": [
       "<IPython.core.display.Javascript object>"
      ]
     },
     "metadata": {},
     "output_type": "display_data"
    }
   ],
   "source": [
    "position = vector(1.2*earth_r,1.2*earth_r,1.2*earth_r)\n",
    "velocity = vector(-1,-1,-1)\n",
    "q = 1.0\n",
    "t = 0\n",
    "tf = 1000\n",
    "dt = 0.01\n",
    "\n",
    "while t < tf:\n",
    "    #still trying to figure out how to add a trail to a particle\n",
    "    #right now this makes a new particle over and over again\n",
    "    makeparticle(position, velocity)\n",
    "    for thisparticle in particles:\n",
    "        acc=vector(0,0,0)\n",
    "        r = sqrt(thisparticle.pos.x**2 + thisparticle.pos.y**2 + thisparticle.pos.z**2)\n",
    "        theta = acos(thisparticle.pos.z/r)\n",
    "        B_field = dipole(r, theta)\n",
    "        B = vector (B_field[0]*sin(B_field[1]), 0, B_field[0]*cos(B_field[1]))\n",
    "        #print(r, theta, B)\n",
    "        #lorentz force\n",
    "        F =cross((q*thisparticle.velocity), B)\n",
    "        acc += F\n",
    "        #print(F, acc)\n",
    "        #updating velocity and position of particle\n",
    "        thisparticle.velocity+=acc*dt\n",
    "        thisparticle.pos+=thisparticle.velocity*dt\n",
    "        t += dt\n",
    "        \n",
    "#print (thisparticle.pos)\n",
    "scene = canvas(title='Dipole B Field')"
   ]
  },
  {
   "cell_type": "code",
   "execution_count": null,
   "metadata": {
    "collapsed": true
   },
   "outputs": [],
   "source": []
  }
 ],
 "metadata": {
  "kernelspec": {
   "display_name": "VPython",
   "language": "python",
   "name": "vpython"
  },
  "language_info": {
   "codemirror_mode": {
    "name": "ipython",
    "version": 3
   },
   "file_extension": ".py",
   "mimetype": "text/x-python",
   "name": "python",
   "nbconvert_exporter": "python",
   "pygments_lexer": "ipython3",
   "version": "3.6.3"
  }
 },
 "nbformat": 4,
 "nbformat_minor": 2
}
