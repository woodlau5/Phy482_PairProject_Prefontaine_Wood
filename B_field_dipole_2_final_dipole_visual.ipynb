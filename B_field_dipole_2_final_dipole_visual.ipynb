{
 "cells": [
  {
   "cell_type": "code",
   "execution_count": 16,
   "metadata": {},
   "outputs": [],
   "source": [
    "from pylab import *\n",
    "import numpy as np\n",
    "from math import pi,radians\n",
    "from vpython import *\n",
    "\n",
    "earth_r = 6.371*10**6 #radius of earth in meters\n",
    "\n",
    "BB_const=3.12*10**(-5)*(earth_r)**3 #units of kg*m^3/(A*s^2)\n",
    "dim = 3 #what about phi component??\n",
    "\n",
    "def dipole(r,angle): #angle is mlat\n",
    "    BB=np.zeros(dim)\n",
    "    BB[0]=-2*BB_const*sin(angle)/(r**3) #r component\n",
    "    BB[1]=-BB_const*cos(angle)/(r**3) #theta component\n",
    "    #no phi component becuase there is azimuthal symmetry\n",
    "    return BB"
   ]
  },
  {
   "cell_type": "code",
   "execution_count": 24,
   "metadata": {
    "scrolled": true
   },
   "outputs": [
    {
     "data": {
      "text/html": [
       "<div id=\"glowscript\" class=\"glowscript\"></div>"
      ],
      "text/plain": [
       "<IPython.core.display.HTML object>"
      ]
     },
     "metadata": {},
     "output_type": "display_data"
    },
    {
     "data": {
      "application/javascript": [
       "window.__context = { glowscript_container: $(\"#glowscript\").removeAttr(\"id\")}"
      ],
      "text/plain": [
       "<IPython.core.display.Javascript object>"
      ]
     },
     "metadata": {},
     "output_type": "display_data"
    }
   ],
   "source": [
    "dx = 10\n",
    "scale = 1000\n",
    "\n",
    "for latitude in arange(-90,90+dx, dx):\n",
    "    lat_angle = abs(pi-radians(90-latitude))\n",
    "    fieldstrength = dipole(earth_r, lat_angle)\n",
    "    #field = vector(fieldstrength[0]*sin(fieldstrength[1]),0 ,fieldstrength[0]*cos(fieldstrength[1]))\n",
    "    #scale = 10\n",
    "    #scale = 1000*3\n",
    "    for phi in arange(0, 2*pi+(pi/dx), pi*dx/180):\n",
    "        field = vector(fieldstrength[0]*sin(fieldstrength[1])*cos(phi),fieldstrength[0]*sin(fieldstrength[1])*sin(phi),fieldstrength[0]*cos(fieldstrength[1]))\n",
    "        \n",
    "        #scale = 1000 #3*1000\n",
    "        arrow(pos=vector(sin(lat_angle)*cos(phi),sin(lat_angle)*sin(phi),cos(lat_angle)), \n",
    "              axis=field*scale, shaftwidth= .01, color=color.white)\n",
    "for latitude in arange(-90,90+dx, dx):\n",
    "    lat_angle = abs(pi-radians(90-latitude))\n",
    "    fieldstrength = dipole(1.1*earth_r, lat_angle)\n",
    "    #field = vector(fieldstrength[0]*sin(fieldstrength[1]),0 ,fieldstrength[0]*cos(fieldstrength[1]))\n",
    "    #scale = 10\n",
    "    #scale = 1000*3\n",
    "    for phi in arange(0, 2*pi+(pi/dx), pi*dx/180):\n",
    "        field = vector(fieldstrength[0]*sin(fieldstrength[1])*cos(phi),fieldstrength[0]*sin(fieldstrength[1])*sin(phi),fieldstrength[0]*cos(fieldstrength[1]))\n",
    "        \n",
    "        #scale = 1000 #3*1000\n",
    "        arrow(pos=vector(1.1*sin(lat_angle)*cos(phi),1.1*sin(lat_angle)*sin(phi),1.1*cos(lat_angle)), \n",
    "              axis=field*scale, shaftwidth= .01, color=color.cyan)\n",
    "for latitude in arange(-90,90+dx, dx):\n",
    "    lat_angle = abs(pi-radians(90-latitude))\n",
    "    fieldstrength = dipole(1.2*earth_r, lat_angle)\n",
    "    #field = vector(fieldstrength[0]*sin(fieldstrength[1]),0 ,fieldstrength[0]*cos(fieldstrength[1]))\n",
    "    #scale = 10\n",
    "    #scale = 1000*3\n",
    "    for phi in arange(0, 2*pi+(pi/dx), pi*dx/180):\n",
    "        field = vector(fieldstrength[0]*sin(fieldstrength[1])*cos(phi),fieldstrength[0]*sin(fieldstrength[1])*sin(phi),fieldstrength[0]*cos(fieldstrength[1]))\n",
    "        \n",
    "        #scale = 1000 #3*1000\n",
    "        arrow(pos=vector(1.2*sin(lat_angle)*cos(phi),1.2*sin(lat_angle)*sin(phi),1.2*cos(lat_angle)), \n",
    "              axis=field*scale, shaftwidth= .01, color=color.blue)\n",
    "for latitude in arange(-90,90+dx, dx):\n",
    "    lat_angle = abs(pi-radians(90-latitude))\n",
    "    fieldstrength = dipole(1.2*earth_r, lat_angle)\n",
    "    #field = vector(fieldstrength[0]*sin(fieldstrength[1]),0 ,fieldstrength[0]*cos(fieldstrength[1]))\n",
    "    #scale = 10\n",
    "    #scale = 1000*3\n",
    "    for phi in arange(0, 2*pi+(pi/dx), pi*dx/180):\n",
    "        field = vector(fieldstrength[0]*sin(fieldstrength[1])*cos(phi),fieldstrength[0]*sin(fieldstrength[1])*sin(phi),fieldstrength[0]*cos(fieldstrength[1]))\n",
    "        \n",
    "        #scale = 1000 #3*1000\n",
    "        arrow(pos=vector(1.2*sin(lat_angle)*cos(phi),1.2*sin(lat_angle)*sin(phi),1.2*cos(lat_angle)), \n",
    "              axis=field*scale, shaftwidth= .01, color=color.green)\n",
    "        \n",
    "        \n",
    "scene = canvas(title='Dipole B Field')"
   ]
  },
  {
   "cell_type": "code",
   "execution_count": null,
   "metadata": {
    "collapsed": true
   },
   "outputs": [],
   "source": []
  }
 ],
 "metadata": {
  "kernelspec": {
   "display_name": "VPython",
   "language": "python",
   "name": "vpython"
  },
  "language_info": {
   "codemirror_mode": {
    "name": "ipython",
    "version": 3
   },
   "file_extension": ".py",
   "mimetype": "text/x-python",
   "name": "python",
   "nbconvert_exporter": "python",
   "pygments_lexer": "ipython3",
   "version": "3.6.3"
  }
 },
 "nbformat": 4,
 "nbformat_minor": 2
}
