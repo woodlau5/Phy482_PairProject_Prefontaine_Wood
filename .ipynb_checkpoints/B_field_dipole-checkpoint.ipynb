{
 "cells": [
  {
   "cell_type": "markdown",
   "metadata": {},
   "source": [
    "This notebook computes the vector of the magnetic field at any given point and also shows these vectors for some spherical surface. There is still work to be done on beautifying the visual, and the next step is to combine the codes to show a particle moving in this magnetic field.\n",
    "Again, the pictures don't show up in the pdf for whatever reason, so this notebook is also saved to the github."
   ]
  },
  {
   "cell_type": "code",
   "execution_count": 1,
   "metadata": {},
   "outputs": [
    {
     "data": {
      "application/javascript": [
       "require.undef(\"nbextensions/vpython_libraries/glow.min\");"
      ],
      "text/plain": [
       "<IPython.core.display.Javascript object>"
      ]
     },
     "metadata": {},
     "output_type": "display_data"
    },
    {
     "data": {
      "application/javascript": [
       "require.undef(\"nbextensions/vpython_libraries/glowcomm\");"
      ],
      "text/plain": [
       "<IPython.core.display.Javascript object>"
      ]
     },
     "metadata": {},
     "output_type": "display_data"
    },
    {
     "data": {
      "application/javascript": [
       "require.undef(\"nbextensions/vpython_libraries/jquery-ui.custom.min\");"
      ],
      "text/plain": [
       "<IPython.core.display.Javascript object>"
      ]
     },
     "metadata": {},
     "output_type": "display_data"
    },
    {
     "data": {
      "application/javascript": [
       "require([\"nbextensions/vpython_libraries/glow.min\"], function(){console.log(\"GLOW LOADED\");})"
      ],
      "text/plain": [
       "<IPython.core.display.Javascript object>"
      ]
     },
     "metadata": {},
     "output_type": "display_data"
    },
    {
     "data": {
      "application/javascript": [
       "require([\"nbextensions/vpython_libraries/glowcomm\"], function(){console.log(\"GLOWCOMM LOADED\");})"
      ],
      "text/plain": [
       "<IPython.core.display.Javascript object>"
      ]
     },
     "metadata": {},
     "output_type": "display_data"
    },
    {
     "data": {
      "application/javascript": [
       "require([\"nbextensions/vpython_libraries/jquery-ui.custom.min\"], function(){console.log(\"JQUERY LOADED\");})"
      ],
      "text/plain": [
       "<IPython.core.display.Javascript object>"
      ]
     },
     "metadata": {},
     "output_type": "display_data"
    },
    {
     "data": {
      "text/html": [
       "<div id=\"glowscript\" class=\"glowscript\"></div>"
      ],
      "text/plain": [
       "<IPython.core.display.HTML object>"
      ]
     },
     "metadata": {},
     "output_type": "display_data"
    },
    {
     "data": {
      "application/javascript": [
       "window.__context = { glowscript_container: $(\"#glowscript\").removeAttr(\"id\")}"
      ],
      "text/plain": [
       "<IPython.core.display.Javascript object>"
      ]
     },
     "metadata": {},
     "output_type": "display_data"
    }
   ],
   "source": [
    "from pylab import *\n",
    "import numpy as np\n",
    "from math import pi,radians\n",
    "from vpython import *\n",
    "\n",
    "earth_r = 6.371*10**6 #radius of earth in meters\n",
    "\n",
    "B_const=3.12*10**(-5)*(earth_r)**3 #units of T*m^3\n",
    "dim = 3\n",
    "\n",
    "def dipole(r,angle): #angle is magnetic latitude\n",
    "    B=np.zeros(dim)\n",
    "    B[0]=-2*B_const*sin(angle)/(r**3) #r component\n",
    "    B[1]=-B_const*cos(angle)/(r**3) #theta component\n",
    "    #no phi component anywhere because there is azimuthal symmetry\n",
    "    return B"
   ]
  },
  {
   "cell_type": "code",
   "execution_count": 5,
   "metadata": {},
   "outputs": [
    {
     "name": "stdout",
     "output_type": "stream",
     "text": [
      "3.141592653589793\n",
      "2.9670597283903604\n",
      "2.792526803190927\n",
      "2.6179938779914944\n",
      "2.443460952792061\n",
      "2.2689280275926285\n",
      "2.0943951023931953\n",
      "1.9198621771937625\n",
      "1.7453292519943295\n",
      "1.5707963267948966\n",
      "1.3962634015954636\n",
      "1.2217304763960306\n",
      "1.0471975511965976\n",
      "0.8726646259971648\n",
      "0.6981317007977318\n",
      "0.5235987755982988\n",
      "0.3490658503988659\n",
      "0.17453292519943295\n",
      "0.0\n"
     ]
    },
    {
     "data": {
      "text/html": [
       "<div id=\"glowscript\" class=\"glowscript\"></div>"
      ],
      "text/plain": [
       "<IPython.core.display.HTML object>"
      ]
     },
     "metadata": {},
     "output_type": "display_data"
    },
    {
     "data": {
      "application/javascript": [
       "window.__context = { glowscript_container: $(\"#glowscript\").removeAttr(\"id\")}"
      ],
      "text/plain": [
       "<IPython.core.display.Javascript object>"
      ]
     },
     "metadata": {},
     "output_type": "display_data"
    }
   ],
   "source": [
    "dx = 10\n",
    "\n",
    "for latitude in arange(-90,90+dx, dx):\n",
    "    fieldstrength = dipole(earth_r, latitude)\n",
    "    #print((fieldstrength), 'latitude:', latitude)\n",
    "    lat_angle = radians(90-latitude)\n",
    "    print(lat_angle)\n",
    "    for phi in arange(0, 2*pi+(pi/dx), pi/dx):\n",
    "        field = vector(fieldstrength[0], fieldstrength[1],0)\n",
    "        scale = 10*8\n",
    "        arrow(pos=vector(sin(lat_angle)*cos(phi),sin(lat_angle)*sin(phi),cos(lat_angle)), \n",
    "              axis=field*scale, shaftwidth= .05, color=color.green)\n",
    "#for latitude in arange(-90,90+dx, dx):    #These give the option to plot more points on more spheres\n",
    "#    fieldstrength = dipole(1.2*earth_r, latitude)   #It makes the dipole field lines show up more clearly but also muddies the picture\n",
    "#    lat_angle = radians(90-latitude)\n",
    "#    for phi in arange(0, 2*pi+(pi/dx), pi/dx):\n",
    "#        field = vector(fieldstrength[0], fieldstrength[1],0)\n",
    "#        scale = 10*8\n",
    "#        arrow(pos=vector(1.2*sin(lat_angle)*cos(phi),1.2*sin(lat_angle)*sin(phi),1.2*cos(lat_angle)), \n",
    "#              axis=field*scale, shaftwidth= .05, color=color.green)\n",
    "#for latitude in arange(-90,90+dx, dx):\n",
    "#    fieldstrength = dipole(1.1*earth_r, latitude)\n",
    "#    lat_angle = radians(90-latitude)\n",
    "#    for phi in arange(0, 2*pi+(pi/dx), pi/dx):\n",
    "#        field = vector(fieldstrength[0], fieldstrength[1],0)\n",
    "#        scale = 10*8\n",
    "#        arrow(pos=vector(1.1*sin(lat_angle)*cos(phi),1.1*sin(lat_angle)*sin(phi),1.1*cos(lat_angle)), \n",
    "#              axis=field*scale, shaftwidth= .05, color=color.green)\n",
    "        \n",
    "scene = canvas(title='Dipole B Field')"
   ]
  },
  {
   "cell_type": "code",
   "execution_count": null,
   "metadata": {
    "collapsed": true
   },
   "outputs": [],
   "source": []
  }
 ],
 "metadata": {
  "kernelspec": {
   "display_name": "VPython",
   "language": "python",
   "name": "vpython"
  },
  "language_info": {
   "codemirror_mode": {
    "name": "ipython",
    "version": 3
   },
   "file_extension": ".py",
   "mimetype": "text/x-python",
   "name": "python",
   "nbconvert_exporter": "python",
   "pygments_lexer": "ipython3",
   "version": "3.6.3"
  }
 },
 "nbformat": 4,
 "nbformat_minor": 2
}
