{
 "cells": [
  {
   "cell_type": "markdown",
   "metadata": {},
   "source": [
    "This code models and shows a single particle moving in a constant magnetic field. The plan is to change the way it's coding a single particle from how it's currently actually making many particles to having a single particle leave a trail. Also we plan to combine this code with the code for a dipole magnetic field to show a particle moving in something like Earth's magnetic field."
   ]
  },
  {
   "cell_type": "code",
   "execution_count": 1,
   "metadata": {
    "scrolled": true
   },
   "outputs": [
    {
     "data": {
      "application/javascript": [
       "require.undef(\"nbextensions/vpython_libraries/glow.min\");"
      ],
      "text/plain": [
       "<IPython.core.display.Javascript object>"
      ]
     },
     "metadata": {},
     "output_type": "display_data"
    },
    {
     "data": {
      "application/javascript": [
       "require.undef(\"nbextensions/vpython_libraries/glowcomm\");"
      ],
      "text/plain": [
       "<IPython.core.display.Javascript object>"
      ]
     },
     "metadata": {},
     "output_type": "display_data"
    },
    {
     "data": {
      "application/javascript": [
       "require.undef(\"nbextensions/vpython_libraries/jquery-ui.custom.min\");"
      ],
      "text/plain": [
       "<IPython.core.display.Javascript object>"
      ]
     },
     "metadata": {},
     "output_type": "display_data"
    },
    {
     "data": {
      "application/javascript": [
       "require([\"nbextensions/vpython_libraries/glow.min\"], function(){console.log(\"GLOW LOADED\");})"
      ],
      "text/plain": [
       "<IPython.core.display.Javascript object>"
      ]
     },
     "metadata": {},
     "output_type": "display_data"
    },
    {
     "data": {
      "application/javascript": [
       "require([\"nbextensions/vpython_libraries/glowcomm\"], function(){console.log(\"GLOWCOMM LOADED\");})"
      ],
      "text/plain": [
       "<IPython.core.display.Javascript object>"
      ]
     },
     "metadata": {},
     "output_type": "display_data"
    },
    {
     "data": {
      "application/javascript": [
       "require([\"nbextensions/vpython_libraries/jquery-ui.custom.min\"], function(){console.log(\"JQUERY LOADED\");})"
      ],
      "text/plain": [
       "<IPython.core.display.Javascript object>"
      ]
     },
     "metadata": {},
     "output_type": "display_data"
    },
    {
     "data": {
      "text/html": [
       "<div id=\"glowscript\" class=\"glowscript\"></div>"
      ],
      "text/plain": [
       "<IPython.core.display.HTML object>"
      ]
     },
     "metadata": {},
     "output_type": "display_data"
    },
    {
     "data": {
      "application/javascript": [
       "window.__context = { glowscript_container: $(\"#glowscript\").removeAttr(\"id\")}"
      ],
      "text/plain": [
       "<IPython.core.display.Javascript object>"
      ]
     },
     "metadata": {},
     "output_type": "display_data"
    }
   ],
   "source": [
    "from vpython import *\n",
    "\n",
    "particles=[]\n",
    "dt=0.01\n",
    "B = vector(0,-1,0)  #B field going straight down\n",
    "t = 0\n",
    "tf = 100000"
   ]
  },
  {
   "cell_type": "code",
   "execution_count": 3,
   "metadata": {
    "collapsed": true
   },
   "outputs": [],
   "source": [
    "#make arrows that show B field\n",
    "B0 = vector(0,-1,0)\n",
    "\n",
    "xmax = 50\n",
    "dx = 5\n",
    "y = 5\n",
    "\n",
    "bscale = 30\n",
    "\n",
    "for x in arange(-xmax, xmax+dx, 2*dx):\n",
    "    for z in arange(-xmax, xmax+dx, 2*dx):\n",
    "        arrow(pos=vector(x,y,z), axis=B0*bscale, shaftwidth= 0.25, color=color.white)\n"
   ]
  },
  {
   "cell_type": "code",
   "execution_count": 4,
   "metadata": {
    "collapsed": true
   },
   "outputs": [],
   "source": [
    "#particle=sphere(pos=vector(0, 0, 0),radius=1.5,color=color.cyan)# make_trail = True)\n",
    "#particle.make_trail = True\n",
    "\n",
    "def makeparticle(position,velocity):\n",
    "    newparticle=sphere(pos=position,radius=1.5,color=color.cyan)\n",
    "    newparticle.velocity=vector(velocity)\n",
    "    particles.append(newparticle)"
   ]
  },
  {
   "cell_type": "code",
   "execution_count": 5,
   "metadata": {
    "collapsed": true
   },
   "outputs": [],
   "source": [
    "scene.autoscale = False"
   ]
  },
  {
   "cell_type": "code",
   "execution_count": 6,
   "metadata": {
    "scrolled": false
   },
   "outputs": [
    {
     "data": {
      "text/html": [
       "<div id=\"glowscript\" class=\"glowscript\"></div>"
      ],
      "text/plain": [
       "<IPython.core.display.HTML object>"
      ]
     },
     "metadata": {},
     "output_type": "display_data"
    },
    {
     "data": {
      "application/javascript": [
       "window.__context = { glowscript_container: $(\"#glowscript\").removeAttr(\"id\")}"
      ],
      "text/plain": [
       "<IPython.core.display.Javascript object>"
      ]
     },
     "metadata": {},
     "output_type": "display_data"
    }
   ],
   "source": [
    "position = vector(0,0,0)\n",
    "velocity = vector(1,-1,0,)\n",
    "q = 1.0\n",
    "\n",
    "while t < tf:\n",
    "    '''  attempt at making a trail on a single particle instead of make a ton of particles\n",
    "    #lorentz force \n",
    "    acc+=cross((q*velocity), B)\n",
    "    #acc += vector(5,0,0)\n",
    "    velocity += acc*dt\n",
    "    particle.pos += velocity*dt \n",
    "    t += dt\n",
    "    #print(particle.pos)\n",
    "    '''\n",
    "    #still trying to figure out how to add a trail to a particle\n",
    "    #right now this makes a new particle over and over again\n",
    "    makeparticle(position, velocity)\n",
    "    for thisparticle in particles:\n",
    "        acc=vector(0,0,0)\n",
    "        #lorentz force\n",
    "        acc+=cross((q*thisparticle.velocity), B)\n",
    "        #updating velocity and position of particle\n",
    "        thisparticle.velocity+=acc*dt\n",
    "        thisparticle.pos+=thisparticle.velocity*dt\n",
    "        t += dt\n",
    "\n",
    "\n",
    "\n",
    "scene = canvas(title='Particle moving in B field')\n"
   ]
  },
  {
   "cell_type": "code",
   "execution_count": null,
   "metadata": {
    "collapsed": true
   },
   "outputs": [],
   "source": []
  }
 ],
 "metadata": {
  "kernelspec": {
   "display_name": "VPython",
   "language": "python",
   "name": "vpython"
  },
  "language_info": {
   "codemirror_mode": {
    "name": "ipython",
    "version": 3
   },
   "file_extension": ".py",
   "mimetype": "text/x-python",
   "name": "python",
   "nbconvert_exporter": "python",
   "pygments_lexer": "ipython3",
   "version": "3.6.3"
  }
 },
 "nbformat": 4,
 "nbformat_minor": 2
}
