{
 "cells": [
  {
   "cell_type": "code",
   "execution_count": 1,
   "metadata": {},
   "outputs": [
    {
     "data": {
      "application/javascript": [
       "require.undef(\"nbextensions/vpython_libraries/glow.min\");"
      ],
      "text/plain": [
       "<IPython.core.display.Javascript object>"
      ]
     },
     "metadata": {},
     "output_type": "display_data"
    },
    {
     "data": {
      "application/javascript": [
       "require.undef(\"nbextensions/vpython_libraries/glowcomm\");"
      ],
      "text/plain": [
       "<IPython.core.display.Javascript object>"
      ]
     },
     "metadata": {},
     "output_type": "display_data"
    },
    {
     "data": {
      "application/javascript": [
       "require.undef(\"nbextensions/vpython_libraries/jquery-ui.custom.min\");"
      ],
      "text/plain": [
       "<IPython.core.display.Javascript object>"
      ]
     },
     "metadata": {},
     "output_type": "display_data"
    },
    {
     "data": {
      "application/javascript": [
       "require([\"nbextensions/vpython_libraries/glow.min\"], function(){console.log(\"GLOW LOADED\");})"
      ],
      "text/plain": [
       "<IPython.core.display.Javascript object>"
      ]
     },
     "metadata": {},
     "output_type": "display_data"
    },
    {
     "data": {
      "application/javascript": [
       "require([\"nbextensions/vpython_libraries/glowcomm\"], function(){console.log(\"GLOWCOMM LOADED\");})"
      ],
      "text/plain": [
       "<IPython.core.display.Javascript object>"
      ]
     },
     "metadata": {},
     "output_type": "display_data"
    },
    {
     "data": {
      "application/javascript": [
       "require([\"nbextensions/vpython_libraries/jquery-ui.custom.min\"], function(){console.log(\"JQUERY LOADED\");})"
      ],
      "text/plain": [
       "<IPython.core.display.Javascript object>"
      ]
     },
     "metadata": {},
     "output_type": "display_data"
    },
    {
     "data": {
      "text/html": [
       "<div id=\"glowscript\" class=\"glowscript\"></div>"
      ],
      "text/plain": [
       "<IPython.core.display.HTML object>"
      ]
     },
     "metadata": {},
     "output_type": "display_data"
    },
    {
     "data": {
      "application/javascript": [
       "window.__context = { glowscript_container: $(\"#glowscript\").removeAttr(\"id\")}"
      ],
      "text/plain": [
       "<IPython.core.display.Javascript object>"
      ]
     },
     "metadata": {},
     "output_type": "display_data"
    }
   ],
   "source": [
    "from __future__ import division\n",
    "from vpython import *\n",
    "\n",
    "## INITIAL VALUE OF B\n",
    "B0 = vector(0,0.2,0)\n",
    "\n",
    "## THIS CODE DRAWS A FLOOR AND DISPLAYS THE MAGNETIC FIELD *************\n",
    "xmax = .6\n",
    "dx = .1\n",
    "yg = -.1\n",
    "for x in arange(-xmax, xmax+dx, dx):\n",
    "    curve(pos=[(x,yg,-xmax),(x,yg,xmax)], color=vector(.7,.7,.7))\n",
    "for z in arange(-xmax, xmax+dx, dx):\n",
    "    curve(pos=[(-xmax,yg,z),(xmax,yg,z)],color=vector(.7,.7,.7))\n",
    "    bscale = 1\n",
    "for x in arange(-xmax, xmax+dx, 2*dx):\n",
    "    for z in arange(-xmax, xmax+dx, 2*dx):\n",
    "        arrow(pos=vector(x,yg,z), axis=B0*bscale, color=vector(0,.8,.8))\n",
    "\n",
    "particle=sphere(pos=vector(0.3, 0.15, 0),radius=0.03,color=color.cyan)\n",
    "velocity = vector(0,0,3000000)\n",
    "trail = curve(color=particle.color)\n",
    "\n",
    "## YOUR PROGRAM BEGINS HERE ##*******************************************\n",
    "#deltat = 1e-11\n",
    "#t = 0.\n",
    "#while 1: ## Implement steps 1-3 after making the proton move in a straight line.\n",
    "## 1) Add code to calculate the magnetic force on moving proton.\n",
    "## The function cross(a,b) calculates the cross product axb.\n",
    "## 2) Calculate the new momentum of the proton.\n",
    "## 3) Calculate the new velocity of the proton (p/m).\n",
    "## 4) Update the position of the proton (moves in a straight line initially)."
   ]
  },
  {
   "cell_type": "code",
   "execution_count": null,
   "metadata": {
    "collapsed": true
   },
   "outputs": [],
   "source": []
  }
 ],
 "metadata": {
  "kernelspec": {
   "display_name": "VPython",
   "language": "python",
   "name": "vpython"
  },
  "language_info": {
   "codemirror_mode": {
    "name": "ipython",
    "version": 3
   },
   "file_extension": ".py",
   "mimetype": "text/x-python",
   "name": "python",
   "nbconvert_exporter": "python",
   "pygments_lexer": "ipython3",
   "version": "3.6.3"
  }
 },
 "nbformat": 4,
 "nbformat_minor": 2
}
