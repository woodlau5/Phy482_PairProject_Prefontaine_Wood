{
 "cells": [
  {
   "cell_type": "code",
   "execution_count": 3,
   "metadata": {
    "collapsed": true
   },
   "outputs": [],
   "source": [
    "from pylab import *\n",
    "import numpy as np\n",
    "from math import pi\n",
    "mag_BB=8.095*10**15 #units of kg*m^3/(A*s^2)\n",
    "dim = 3 #what about phi component??\n",
    "def modsqr(A):\n",
    "    size=len(A)\n",
    "    xx=0\n",
    "    for ix in range(0,size):\n",
    "        xx=xx+A[ix]*A[ix]\n",
    "    return xx\n",
    "def dipole(r,angle): #angle is mlat\n",
    "    BB=np.zeros(dim)\n",
    "    BB[0]=-2*mag_BB*sin(angle)/(r**3) #r component\n",
    "    BB[1]=-mag_BB*cos(angle)/(r**3) #theta component\n",
    "    return BB"
   ]
  },
  {
   "cell_type": "code",
   "execution_count": 4,
   "metadata": {},
   "outputs": [
    {
     "name": "stdout",
     "output_type": "stream",
     "text": [
      "[ -0.00000000e+00  -3.13035822e-14   0.00000000e+00]\n"
     ]
    }
   ],
   "source": [
    "fieldstrength = dipole(6.371*10**9,0)\n",
    "print(fieldstrength)"
   ]
  },
  {
   "cell_type": "code",
   "execution_count": null,
   "metadata": {
    "collapsed": true
   },
   "outputs": [],
   "source": []
  }
 ],
 "metadata": {
  "kernelspec": {
   "display_name": "VPython",
   "language": "python",
   "name": "vpython"
  },
  "language_info": {
   "codemirror_mode": {
    "name": "ipython",
    "version": 3
   },
   "file_extension": ".py",
   "mimetype": "text/x-python",
   "name": "python",
   "nbconvert_exporter": "python",
   "pygments_lexer": "ipython3",
   "version": "3.6.3"
  }
 },
 "nbformat": 4,
 "nbformat_minor": 2
}
