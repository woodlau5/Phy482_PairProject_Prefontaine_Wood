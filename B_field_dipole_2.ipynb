{
 "cells": [
  {
   "cell_type": "code",
   "execution_count": 25,
   "metadata": {},
   "outputs": [],
   "source": [
    "from pylab import *\n",
    "import numpy as np\n",
    "from math import pi,radians\n",
    "from vpython import *\n",
    "\n",
    "#earth_r = 6.371*10**6 #radius of earth in meters\n",
    "earth_r = 1\n",
    "\n",
    "BB_const=3.12*10**(-5)*(earth_r)**3 #units of kg*m^3/(A*s^2)\n",
    "dim = 3 #what about phi component??\n",
    "\n",
    "def dipole(r,angle): #angle is mlat\n",
    "    BB=np.zeros(dim)\n",
    "    BB[0]=-2*BB_const*sin(angle)/(r**3) #r component\n",
    "    BB[1]=-BB_const*cos(angle)/(r**3) #theta component\n",
    "    #no phi component becuase there is azimuthal symmetry\n",
    "    return BB"
   ]
  },
  {
   "cell_type": "code",
   "execution_count": 26,
   "metadata": {
    "scrolled": true
   },
   "outputs": [
    {
     "name": "stdout",
     "output_type": "stream",
     "text": [
      "<-2.38424e-25, 0, -7.6418e-21>\n",
      "<-2.38424e-25, 0, -7.6418e-21>\n",
      "<-2.38424e-25, 0, -7.6418e-21>\n",
      "<-2.38424e-25, 0, -7.6418e-21>\n",
      "<-2.38424e-25, 0, -7.6418e-21>\n",
      "<-2.38424e-25, 0, -7.6418e-21>\n",
      "<-2.38424e-25, 0, -7.6418e-21>\n",
      "<-2.38424e-25, 0, -7.6418e-21>\n",
      "<-2.38424e-25, 0, -7.6418e-21>\n",
      "<-2.38424e-25, 0, -7.6418e-21>\n",
      "<-2.38424e-25, 0, -7.6418e-21>\n",
      "<-2.38424e-25, 0, -7.6418e-21>\n",
      "<-2.38424e-25, 0, -7.6418e-21>\n",
      "<-2.38424e-25, 0, -7.6418e-21>\n",
      "<-2.38424e-25, 0, -7.6418e-21>\n",
      "<-2.38424e-25, 0, -7.6418e-21>\n",
      "<-2.38424e-25, 0, -7.6418e-21>\n",
      "<-2.38424e-25, 0, -7.6418e-21>\n",
      "<-2.38424e-25, 0, -7.6418e-21>\n"
     ]
    },
    {
     "data": {
      "text/html": [
       "<div id=\"glowscript\" class=\"glowscript\"></div>"
      ],
      "text/plain": [
       "<IPython.core.display.HTML object>"
      ]
     },
     "metadata": {},
     "output_type": "display_data"
    },
    {
     "data": {
      "application/javascript": [
       "window.__context = { glowscript_container: $(\"#glowscript\").removeAttr(\"id\")}"
      ],
      "text/plain": [
       "<IPython.core.display.Javascript object>"
      ]
     },
     "metadata": {},
     "output_type": "display_data"
    }
   ],
   "source": [
    "fieldstrength = dipole(6.371*10**9,0)\n",
    "#print(fieldstrength)\n",
    "dx = 10\n",
    "\n",
    "for latitude in arange(-90,90+dx, dx):\n",
    "    lat_angle = abs(pi-radians(90-latitude))\n",
    "    fieldstrength = dipole(earth_r, lat_angle)\n",
    "    #print((fieldstrength), 'latitude:', latitude)\n",
    "    #print(lat_angle)\n",
    "    #field = vector(fieldstrength[0]*sin(fieldstrength[1]),0 ,fieldstrength[0]*cos(fieldstrength[1]))\n",
    "    fiel = (sin(fieldstrength[1]),0 ,cos(fieldstrength[1]))\n",
    "    print(field)\n",
    "    for phi in arange(0, 2*pi+(pi/dx), pi*dx/180):\n",
    "        \n",
    "        scale = 1000 #3*1000\n",
    "        arrow(pos=vector(sin(lat_angle)*cos(phi),sin(lat_angle)*sin(phi),cos(lat_angle)), \n",
    "              axis=field*scale, shaftwidth= .01, color=color.green)\n",
    "        \n",
    "        \n",
    "scene = canvas(title='Dipole B Field')"
   ]
  },
  {
   "cell_type": "code",
   "execution_count": null,
   "metadata": {},
   "outputs": [],
   "source": []
  }
 ],
 "metadata": {
  "kernelspec": {
   "display_name": "VPython",
   "language": "python",
   "name": "vpython"
  },
  "language_info": {
   "codemirror_mode": {
    "name": "ipython",
    "version": 2
   },
   "file_extension": ".py",
   "mimetype": "text/x-python",
   "name": "python",
   "nbconvert_exporter": "python",
   "pygments_lexer": "ipython2",
   "version": "2.7.14"
  }
 },
 "nbformat": 4,
 "nbformat_minor": 2
}
