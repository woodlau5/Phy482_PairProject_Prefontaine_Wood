{
 "cells": [
  {
   "cell_type": "code",
   "execution_count": 79,
   "metadata": {},
   "outputs": [],
   "source": [
    "from pylab import *\n",
    "import numpy as np\n",
    "from math import pi,radians\n",
    "from vpython import *\n",
    "\n",
    "#earth_r = 6.371*10**6 #radius of earth in meters\n",
    "earth_r = 1\n",
    "\n",
    "#BB_const=3.12*10**(-5)*(earth_r)**3 #units of kg*m^3/(A*s^2)\n",
    "BB_const = 1\n",
    "B_const = 1\n",
    "dim = 3 #what about phi component??\n",
    "\n",
    "def dipolespher(r,angle): #angle is not currently mlat  ??\n",
    "    BB=np.zeros(dim)\n",
    "    BB[0]=-2*BB_const*sin(angle)/(r**3) #r component\n",
    "    BB[1]=-BB_const*cos(angle)/(r**3) #theta component\n",
    "    #no phi component because there is azimuthal symmetry\n",
    "    return BB\n",
    "\n",
    "def dipolecart(x):\n",
    "    B=np.zeros(dim)\n",
    "    r = sqrt(x.x**2 + x.y**2 + x.z**2)\n",
    "    B[0]=(-B_const*3*x.x*x.z/(r**5))\n",
    "    B[1]=(-B_const*3*x.y*x.z/(r**5))\n",
    "    B[2]=(-B_const*(2*(x.z**2)-(x.x**2)-(x.y**2))/(r**5))\n",
    "    return B\n",
    "\n",
    "earth = sphere(pos=vector(0,0,0), radius = 0.9, texture={'file':textures.earth})#, rotate(angle=pi/2))\n",
    "earth.rotate(angle= pi/2)\n",
    "earth.rotate(angle= pi/2, axis = vector(0,0,1))"
   ]
  },
  {
   "cell_type": "code",
   "execution_count": 80,
   "metadata": {},
   "outputs": [],
   "source": [
    "particles = []\n",
    "\n",
    "def makeparticle(position,velocity):\n",
    "    newparticle=sphere(pos=position,radius=0.01,color=color.red)\n",
    "    newparticle.velocity=vector(velocity)\n",
    "    particles.append(newparticle)\n",
    "    #lamp=local_light(pos=newparticle.pos, color=color.white )\n"
   ]
  },
  {
   "cell_type": "code",
   "execution_count": 81,
   "metadata": {},
   "outputs": [
    {
     "data": {
      "text/html": [
       "<div id=\"glowscript\" class=\"glowscript\"></div>"
      ],
      "text/plain": [
       "<IPython.core.display.HTML object>"
      ]
     },
     "metadata": {},
     "output_type": "display_data"
    },
    {
     "data": {
      "application/javascript": [
       "window.__context = { glowscript_container: $(\"#glowscript\").removeAttr(\"id\")}"
      ],
      "text/plain": [
       "<IPython.core.display.Javascript object>"
      ]
     },
     "metadata": {},
     "output_type": "display_data"
    }
   ],
   "source": [
    "dx = 10\n",
    "scale = 0.25\n",
    "\n",
    "for latitude in arange(-90,90+dx,dx):\n",
    "    lat_angle = abs(pi-radians(90-latitude)) #convert from mlat to regular angle\n",
    "    fieldstrength = dipolespher(earth_r, lat_angle)\n",
    "    for phi in arange(0, 2*pi+(pi/dx), pi*dx/180):\n",
    "        field = vector(fieldstrength[0]*sin(fieldstrength[1])*cos(phi),fieldstrength[0]*sin(fieldstrength[1])*sin(phi),fieldstrength[0]*cos(fieldstrength[1]))\n",
    "        arrow(pos=vector(sin(lat_angle)*cos(phi),sin(lat_angle)*sin(phi),cos(lat_angle)), \n",
    "              axis=field*scale, shaftwidth= .01, color=color.white)\n",
    "for latitude in arange(-90,90+dx,dx): #making multiple layers of the visual of the dipole magnetic field\n",
    "    lat_angle = abs(pi-radians(90-latitude))\n",
    "    fieldstrength = dipolespher(1.35*earth_r, lat_angle)\n",
    "    for phi in arange(0, 2*pi+(pi/dx), pi*dx/180):\n",
    "        field = vector(fieldstrength[0]*sin(fieldstrength[1])*cos(phi),fieldstrength[0]*sin(fieldstrength[1])*sin(phi),fieldstrength[0]*cos(fieldstrength[1]))\n",
    "        arrow(pos=vector(1.1*sin(lat_angle)*cos(phi),1.1*sin(lat_angle)*sin(phi),1.1*cos(lat_angle)), \n",
    "              axis=field*scale, shaftwidth= .01, color=color.cyan)\n",
    "for latitude in arange(-90,90+dx,dx):\n",
    "    lat_angle = abs(pi-radians(90-latitude))\n",
    "    fieldstrength = dipolespher(1.5*earth_r, lat_angle)\n",
    "    for phi in arange(0, 2*pi+(pi/dx), pi*dx/180):\n",
    "        field = vector(fieldstrength[0]*sin(fieldstrength[1])*cos(phi),fieldstrength[0]*sin(fieldstrength[1])*sin(phi),fieldstrength[0]*cos(fieldstrength[1]))\n",
    "        arrow(pos=vector(1.2*sin(lat_angle)*cos(phi),1.2*sin(lat_angle)*sin(phi),1.2*cos(lat_angle)), \n",
    "              axis=field*scale, shaftwidth= .01, color=color.blue)\n",
    "'''for latitude in arange(-90,90+dx,dx):\n",
    "    lat_angle = abs(pi-radians(90-latitude))\n",
    "    fieldstrength = dipolespher(1.75*earth_r, lat_angle)\n",
    "    for phi in arange(0, 2*pi+(pi/dx), pi*dx/180):\n",
    "        field = vector(fieldstrength[0]*sin(fieldstrength[1])*cos(phi),fieldstrength[0]*sin(fieldstrength[1])*sin(phi),fieldstrength[0]*cos(fieldstrength[1]))\n",
    "        arrow(pos=vector(1.3*sin(lat_angle)*cos(phi),1.3*sin(lat_angle)*sin(phi),1.3*cos(lat_angle)), \n",
    "              axis=field*scale, shaftwidth= .01, color=color.green)'''\n",
    "        \n",
    "position = vector(-1.2*earth_r,-1.2*earth_r,1.3*earth_r)\n",
    "velocity = vector(0.07,0.07,0)\n",
    "q = 1.0\n",
    "t = 0\n",
    "tf = 15000\n",
    "dt = 0.025\n",
    "\n",
    "while t < tf:\n",
    "    makeparticle(position, velocity)\n",
    "    for thisparticle in particles:\n",
    "        acc=vector(0,0,0)\n",
    "        B_field = dipolecart(thisparticle.pos)\n",
    "        B = vector(B_field[0], B_field[1], B_field[2])\n",
    "        F =cross((q*thisparticle.velocity), B)\n",
    "        acc += F\n",
    "        #updating velocity and position of particle\n",
    "        thisparticle.velocity+=acc*dt\n",
    "        thisparticle.pos+=thisparticle.velocity*dt\n",
    "        t += dt\n",
    "        \n",
    "scene = canvas(title='Dipole B Field')"
   ]
  }
 ],
 "metadata": {
  "kernelspec": {
   "display_name": "VPython",
   "language": "python",
   "name": "vpython"
  },
  "language_info": {
   "codemirror_mode": {
    "name": "ipython",
    "version": 2
   },
   "file_extension": ".py",
   "mimetype": "text/x-python",
   "name": "python",
   "nbconvert_exporter": "python",
   "pygments_lexer": "ipython2",
   "version": "2.7.9"
  }
 },
 "nbformat": 4,
 "nbformat_minor": 2
}
