{
 "cells": [
  {
   "cell_type": "code",
   "execution_count": 1,
   "metadata": {
    "collapsed": true
   },
   "outputs": [],
   "source": [
    "from pylab import *\n",
    "import numpy as np\n",
    "from math import pi\n",
    "mag_BB=7.965*10**15 #units of kg*m^3/(A*s^2)\n",
    "dim = 3\n",
    "def modsqr(A):\n",
    "    size=len(A)\n",
    "    xx=0\n",
    "    for ix in range(0,size):\n",
    "        xx=xx+A[ix]*A[ix]\n",
    "    return xx\n",
    "def dipole(x):\n",
    "    BB=np.zeros(dim)\n",
    "    r=np.sqrt(modsqr(x))\n",
    "    BB[0]=(-mag_BB*3*x[0]*x[2]/(r**5))\n",
    "    BB[1]=(-mag_BB*3*x[1]*x[2]/(r**5))\n",
    "    BB[2]=(-mag_BB*(2*(x[2]**2)-(x[0]**2)-(x[1]**2))/(r**5))\n",
    "    return BB"
   ]
  },
  {
   "cell_type": "code",
   "execution_count": 2,
   "metadata": {},
   "outputs": [
    {
     "name": "stdout",
     "output_type": "stream",
     "text": [
      "[ -9.77480721e+13  -1.95496144e+14  -1.41191660e+14]\n"
     ]
    }
   ],
   "source": [
    "fieldstrength = dipole([1,2,3])\n",
    "print(fieldstrength)"
   ]
  },
  {
   "cell_type": "code",
   "execution_count": null,
   "metadata": {
    "collapsed": true
   },
   "outputs": [],
   "source": []
  }
 ],
 "metadata": {
  "kernelspec": {
   "display_name": "VPython",
   "language": "python",
   "name": "vpython"
  },
  "language_info": {
   "codemirror_mode": {
    "name": "ipython",
    "version": 3
   },
   "file_extension": ".py",
   "mimetype": "text/x-python",
   "name": "python",
   "nbconvert_exporter": "python",
   "pygments_lexer": "ipython3",
   "version": "3.6.3"
  }
 },
 "nbformat": 4,
 "nbformat_minor": 2
}
