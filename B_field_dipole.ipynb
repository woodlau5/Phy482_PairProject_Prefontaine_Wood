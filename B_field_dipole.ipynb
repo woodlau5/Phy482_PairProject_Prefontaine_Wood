{
 "cells": [
  {
   "cell_type": "code",
   "execution_count": 59,
   "metadata": {},
   "outputs": [],
   "source": [
    "from pylab import *\n",
    "import numpy as np\n",
    "from math import pi,radians\n",
    "from vpython import *\n",
    "\n",
    "earth_r = 6.371*10**6 #radius of earth in meters\n",
    "\n",
    "BB_const=3.12*10**(-5)*(earth_r)**3 #units of kg*m^3/(A*s^2)\n",
    "dim = 3 #what about phi component??\n",
    "\n",
    "def dipole(r,angle): #angle is mlat\n",
    "    BB=np.zeros(dim)\n",
    "    BB[0]=-2*BB_const*sin(angle)/(r**3) #r component\n",
    "    BB[1]=-BB_const*cos(angle)/(r**3) #theta component\n",
    "    #no phi component becuase there is azimuthal symmetry\n",
    "    return BB"
   ]
  },
  {
   "cell_type": "code",
   "execution_count": 60,
   "metadata": {},
   "outputs": [
    {
     "name": "stdout",
     "output_type": "stream",
     "text": [
      "3.14159265359\n",
      "2.96705972839\n",
      "2.79252680319\n",
      "2.61799387799\n",
      "2.44346095279\n",
      "2.26892802759\n",
      "2.09439510239\n",
      "1.91986217719\n",
      "1.74532925199\n",
      "1.57079632679\n",
      "1.3962634016\n",
      "1.2217304764\n",
      "1.0471975512\n",
      "0.872664625997\n",
      "0.698131700798\n",
      "0.523598775598\n",
      "0.349065850399\n",
      "0.174532925199\n",
      "0.0\n"
     ]
    },
    {
     "data": {
      "text/html": [
       "<div id=\"glowscript\" class=\"glowscript\"></div>"
      ],
      "text/plain": [
       "<IPython.core.display.HTML object>"
      ]
     },
     "metadata": {},
     "output_type": "display_data"
    },
    {
     "data": {
      "application/javascript": [
       "window.__context = { glowscript_container: $(\"#glowscript\").removeAttr(\"id\")}"
      ],
      "text/plain": [
       "<IPython.core.display.Javascript object>"
      ]
     },
     "metadata": {},
     "output_type": "display_data"
    }
   ],
   "source": [
    "fieldstrength = dipole(6.371*10**9,0)\n",
    "#print(fieldstrength)\n",
    "dx = 10\n",
    "\n",
    "for latitude in arange(-90,90+dx, dx):\n",
    "    fieldstrength = dipole(earth_r, latitude)\n",
    "    #print((fieldstrength), 'latitude:', latitude)\n",
    "    lat_angle = radians(90-latitude)\n",
    "    print(lat_angle)\n",
    "    for phi in arange(0, 2*pi+(pi/dx), pi/dx):\n",
    "        field = vector(fieldstrength[0], fieldstrength[1],0)\n",
    "        scale = 10*8\n",
    "        arrow(pos=vector(sin(lat_angle)*cos(phi),sin(lat_angle)*sin(phi),cos(lat_angle)), \n",
    "              axis=field*scale, shaftwidth= .05, color=color.green)\n",
    "        \n",
    "scene = canvas(title='Dipole B Field')"
   ]
  }
 ],
 "metadata": {
  "kernelspec": {
   "display_name": "VPython",
   "language": "python",
   "name": "vpython"
  },
  "language_info": {
   "codemirror_mode": {
    "name": "ipython",
    "version": 2
   },
   "file_extension": ".py",
   "mimetype": "text/x-python",
   "name": "python",
   "nbconvert_exporter": "python",
   "pygments_lexer": "ipython2",
   "version": "2.7.14"
  }
 },
 "nbformat": 4,
 "nbformat_minor": 2
}
