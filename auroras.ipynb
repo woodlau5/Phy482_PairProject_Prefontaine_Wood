{
 "cells": [
  {
   "cell_type": "code",
   "execution_count": null,
   "metadata": {},
   "outputs": [],
   "source": [
    "from vpython import *\n",
    "#create scene\n",
    "scene = canvas(title='3D scene')\n",
    "\n",
    "\n",
    "particles=[]\n",
    "dt=0.01\n",
    "B = vector (0,-1,0)  #B field going straight down\n",
    "t = 0\n",
    "tf = 100"
   ]
  },
  {
   "cell_type": "code",
   "execution_count": null,
   "metadata": {},
   "outputs": [],
   "source": [
    "def makeparticle(position,velocity):\n",
    "    newparticle=sphere(pos=position,radius=0.3,color=color.cyan)\n",
    "    newparticle.velocity=vector(velocity)\n",
    "    particles.append(newparticle)       \n",
    "\n",
    "            "
   ]
  },
  {
   "cell_type": "code",
   "execution_count": null,
   "metadata": {},
   "outputs": [],
   "source": [
    "scene.autoscale = True"
   ]
  },
  {
   "cell_type": "code",
   "execution_count": null,
   "metadata": {},
   "outputs": [],
   "source": [
    "while t < tf:\n",
    "    \n",
    "    position = vector(0,0,0)\n",
    "    vel = vector(10,0,0,)\n",
    "    q = 1.0\n",
    "    makeparticle(position, vel)\n",
    "   \n",
    "    for thisparticle in particles:\n",
    "        acc=vector(0,0,0)\n",
    "        #lorentz force\n",
    "        acc+=cross((q*thisparticle.velocity), B)\n",
    "        if (thisparticle.pos.y<=0):\n",
    "            thisparticle.velocity.y=-thisparticle.velocity.y\n",
    "        thisparticle.velocity+=acc*dt\n",
    "        thisparticle.pos+=thisparticle.velocity*dt\n",
    "        t += dt\n",
    "        print t"
   ]
  },
  {
   "cell_type": "code",
   "execution_count": null,
   "metadata": {},
   "outputs": [],
   "source": []
  }
 ],
 "metadata": {
  "kernelspec": {
   "display_name": "VPython",
   "language": "python",
   "name": "vpython"
  },
  "language_info": {
   "codemirror_mode": {
    "name": "ipython",
    "version": 2
   },
   "file_extension": ".py",
   "mimetype": "text/x-python",
   "name": "python",
   "nbconvert_exporter": "python",
   "pygments_lexer": "ipython2",
   "version": "2.7.14"
  }
 },
 "nbformat": 4,
 "nbformat_minor": 2
}
