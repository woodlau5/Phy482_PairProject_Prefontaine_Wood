{
 "cells": [
  {
   "cell_type": "code",
   "execution_count": 17,
   "metadata": {
    "scrolled": true
   },
   "outputs": [],
   "source": [
    "from vpython import *\n",
    "\n",
    "particles=[]\n",
    "dt=0.01\n",
    "B = vector (0,-1,0)  #B field going straight down\n",
    "t = 0\n",
    "tf = 10000"
   ]
  },
  {
   "cell_type": "code",
   "execution_count": 18,
   "metadata": {},
   "outputs": [],
   "source": [
    "def makeparticle(position,velocity):\n",
    "    newparticle=sphere(pos=position,radius=0.3,color=color.cyan)\n",
    "    newparticle.velocity=vector(velocity)\n",
    "    particles.append(newparticle)       \n",
    "\n",
    "            "
   ]
  },
  {
   "cell_type": "code",
   "execution_count": 19,
   "metadata": {},
   "outputs": [],
   "source": [
    "scene.autoscale = False"
   ]
  },
  {
   "cell_type": "code",
   "execution_count": 20,
   "metadata": {
    "scrolled": true
   },
   "outputs": [
    {
     "data": {
      "text/html": [
       "<div id=\"glowscript\" class=\"glowscript\"></div>"
      ],
      "text/plain": [
       "<IPython.core.display.HTML object>"
      ]
     },
     "metadata": {},
     "output_type": "display_data"
    },
    {
     "data": {
      "application/javascript": [
       "window.__context = { glowscript_container: $(\"#glowscript\").removeAttr(\"id\")}"
      ],
      "text/plain": [
       "<IPython.core.display.Javascript object>"
      ]
     },
     "metadata": {},
     "output_type": "display_data"
    }
   ],
   "source": [
    "position = vector(0,0,0)\n",
    "vel = vector(1,-1,0,)\n",
    "q = 1.0\n",
    "pointer = arrow(pos=vector(0,2,1),axis=vector(5,0,0), shaftwidth=1)\n",
    "    \n",
    "while t < tf:\n",
    "    makeparticle(position, vel)\n",
    "    for thisparticle in particles:\n",
    "        acc=vector(0,0,0)\n",
    "        #lorentz force\n",
    "        acc+=cross((q*thisparticle.velocity), B)\n",
    "        thisparticle.velocity+=acc*dt\n",
    "        thisparticle.pos+=thisparticle.velocity*dt\n",
    "        t += dt\n",
    "scene = canvas(title='Particle moving in B field')\n"
   ]
  },
  {
   "cell_type": "code",
   "execution_count": null,
   "metadata": {},
   "outputs": [],
   "source": []
  }
 ],
 "metadata": {
  "kernelspec": {
   "display_name": "VPython",
   "language": "python",
   "name": "vpython"
  },
  "language_info": {
   "codemirror_mode": {
    "name": "ipython",
    "version": 2
   },
   "file_extension": ".py",
   "mimetype": "text/x-python",
   "name": "python",
   "nbconvert_exporter": "python",
   "pygments_lexer": "ipython2",
   "version": "2.7.14"
  }
 },
 "nbformat": 4,
 "nbformat_minor": 2
}
